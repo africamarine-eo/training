{
 "cells": [
  {
   "cell_type": "markdown",
   "metadata": {},
   "source": [
    "# Data and GPT path checker"
   ]
  },
  {
   "cell_type": "markdown",
   "metadata": {},
   "source": [
    "    Version: 1.0\n",
    "    Date:    12/03/2019\n",
    "    Author:  Ben Loveday and Hayley Evers-King (Plymouth Marine Laboratory)\n",
    "    Credit:  This code was developed for EUMETSAT under contracts for the Copernicus \n",
    "             programme.\n",
    "    License: This code is offered as open source and free-to-use in the public domain, \n",
    "             with no warranty."
   ]
  },
  {
   "cell_type": "markdown",
   "metadata": {},
   "source": [
    "To run the training python scripts, the code needs to know the path to your data and gpt executable (e.g. where they are stored on your computer). There are subtle differences in how paths are constructed in Windows, Linux and on OSx, so we have provided this quick tool to help you constructing reliable, cross-platform supported paths in python. To use this tool, you need to provide it with the actual path to your data as your computer provides it. The easiest way to get this is to navigate to the folder containing the training data folders using your the file manager for your OS, right click on the folder and select either 'properties' or 'get info' from the drop-down list. The path will be displayed on the page that opens, and will look something like C:\\dir1\\dir2\\dir3 (where dir* indicates a directory).\n",
    "\n",
    "To run the script, click the \"kernel\" option and choose \"restart and run all\". This will create a white text box below. Copy your path into the text box and hit \"Enter\" to produce output that will help in running later scripts.\n",
    "\n",
    "To run the GPT path checker, you need to locate the gpt executable file (note here we give the file, not the directory as we did in MYPATH!). This would usually be here C:\\Program Files\\snap\\bin\\gpt.exe on Windows."
   ]
  },
  {
   "cell_type": "code",
   "execution_count": null,
   "metadata": {},
   "outputs": [],
   "source": [
    "import widget_functions as wf\n",
    "import os"
   ]
  },
  {
   "cell_type": "code",
   "execution_count": null,
   "metadata": {},
   "outputs": [],
   "source": [
    "# Data path checker....\n",
    "wf.text_box('data')"
   ]
  },
  {
   "cell_type": "code",
   "execution_count": null,
   "metadata": {},
   "outputs": [],
   "source": [
    "# GPT path checker....\n",
    "wf.text_box('GPT')"
   ]
  },
  {
   "cell_type": "code",
   "execution_count": null,
   "metadata": {},
   "outputs": [],
   "source": []
  }
 ],
 "metadata": {
  "kernelspec": {
   "display_name": "Python 3",
   "language": "python",
   "name": "python3"
  },
  "language_info": {
   "codemirror_mode": {
    "name": "ipython",
    "version": 3
   },
   "file_extension": ".py",
   "mimetype": "text/x-python",
   "name": "python",
   "nbconvert_exporter": "python",
   "pygments_lexer": "ipython3",
   "version": "3.7.1"
  }
 },
 "nbformat": 4,
 "nbformat_minor": 2
}
